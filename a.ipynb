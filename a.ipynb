{
 "cells": [
  {
   "cell_type": "code",
   "execution_count": 4,
   "metadata": {},
   "outputs": [],
   "source": [
    "import pandas as pd\n",
    "from extractor import saramin, indeed, jobkorea\n",
    "import os\n",
    "\n",
    "# os.chdir(\"파이썬 응용/텀 프로젝트/Search_job\")\n",
    "sites = ['Saramin', 'Indeed', 'JobKorea']\n",
    "languages = ['C', 'C++', 'Java', 'JavaScript', 'Python']\n",
    "\n",
    "total_lst = []\n",
    "\n",
    "for language in languages:\n",
    "    total_lst.append([saramin.get_total(language),\n",
    "                    indeed.get_total(language),\n",
    "                    jobkorea.get_total(language)])\n",
    "\n"
   ]
  },
  {
   "cell_type": "code",
   "execution_count": 5,
   "metadata": {},
   "outputs": [
    {
     "data": {
      "text/plain": [
       "[[5265, 2023, 12445],\n",
       " [5659, 1870, 17520],\n",
       " [3118, 697, 4141],\n",
       " [2772, 1141, 3511]]"
      ]
     },
     "execution_count": 5,
     "metadata": {},
     "output_type": "execute_result"
    }
   ],
   "source": [
    "total_lst"
   ]
  },
  {
   "cell_type": "code",
   "execution_count": 9,
   "metadata": {},
   "outputs": [],
   "source": [
    "df_total = pd.DataFrame(total_lst, index=languages, columns=sites)\n",
    "writer = pd.ExcelWriter('data.xlsx', engine='xlsxwriter')\n",
    "df_total.to_excel(writer, sheet_name='Total')\n",
    "writer.save()"
   ]
  },
  {
   "cell_type": "code",
   "execution_count": null,
   "metadata": {},
   "outputs": [],
   "source": []
  }
 ],
 "metadata": {
  "interpreter": {
   "hash": "eeef0cb391fe40f785f0ff6afa905b3564d2f08c60369c2eddb95f73dfcb4388"
  },
  "kernelspec": {
   "display_name": "Python 3.8.5 64-bit ('tutorial': conda)",
   "language": "python",
   "name": "python3"
  },
  "language_info": {
   "codemirror_mode": {
    "name": "ipython",
    "version": 3
   },
   "file_extension": ".py",
   "mimetype": "text/x-python",
   "name": "python",
   "nbconvert_exporter": "python",
   "pygments_lexer": "ipython3",
   "version": "3.8.5"
  },
  "orig_nbformat": 4
 },
 "nbformat": 4,
 "nbformat_minor": 2
}
